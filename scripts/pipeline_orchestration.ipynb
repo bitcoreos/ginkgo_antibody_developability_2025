{
 "cells": [
  {
   "cell_type": "markdown",
   "id": "d56531d2",
   "metadata": {},
   "source": [
    "# Track B Pipeline Orchestration\n",
    "This notebook coordinates the audit, feature integration, and modeling scripts. Use the dry-run workflow first to validate configuration before triggering the full pipeline."
   ]
  },
  {
   "cell_type": "code",
   "execution_count": null,
   "id": "be261208",
   "metadata": {},
   "outputs": [],
   "source": [
    "from pathlib import Path\n",
    "import json\n",
    "import os\n",
    "import subprocess\n",
    "from typing import Sequence\n",
    "\n",
    "REPO_ROOT = Path(\"/workspaces/bitcore\").resolve()\n",
    "PIPELINE_SCRIPT = REPO_ROOT / \"workspace\" / \"scripts\" / \"run_pipeline.py\"\n",
    "DRY_RUN_DEFAULT = True\n",
    "\n",
    "if DRY_RUN_DEFAULT:\n",
    "    os.environ[\"BITCORE_DRY_RUN\"] = \"1\"\n",
    "else:\n",
    "    os.environ.pop(\"BITCORE_DRY_RUN\", None)\n",
    "\n",
    "def run_command(command: Sequence[str], cwd: Path | None = None) -> subprocess.CompletedProcess:\n",
    "    resolved_cwd = cwd or REPO_ROOT\n",
    "    result = subprocess.run(\n",
    "        list(command),\n",
    "        cwd=resolved_cwd,\n",
    "        text=True,\n",
    "        capture_output=True,\n",
    "        check=False,\n",
    "    )\n",
    "    if result.stdout:\n",
    "        print(result.stdout)\n",
    "    if result.stderr:\n",
    "        print(result.stderr)\n",
    "    if result.returncode != 0:\n",
    "        raise RuntimeError(f\"Command {command} failed with exit code {result.returncode}\")\n",
    "    return result"
   ]
  },
  {
   "cell_type": "code",
   "execution_count": null,
   "id": "8a0e3656",
   "metadata": {},
   "outputs": [],
   "source": [
    "plan_process = run_command([\"python\", str(PIPELINE_SCRIPT), \"--plan\"])\n",
    "plan = json.loads(plan_process.stdout)\n",
    "plan"
   ]
  },
  {
   "cell_type": "code",
   "execution_count": null,
   "id": "dbedf129",
   "metadata": {},
   "outputs": [],
   "source": [
    "if DRY_RUN_DEFAULT:\n",
    "    run_command([\"python\", str(PIPELINE_SCRIPT), \"--dry-run\"])\n",
    "else:\n",
    "    print(\"Dry-run disabled; adjust DRY_RUN_DEFAULT in the configuration cell if required.\")"
   ]
  },
  {
   "cell_type": "markdown",
   "id": "60317433",
   "metadata": {},
   "source": [
    "## Execute Full Pipeline\n",
    "Switch `DRY_RUN_DEFAULT` to `False` and re-run the configuration cell before executing this block."
   ]
  },
  {
   "cell_type": "code",
   "execution_count": null,
   "id": "0cac6870",
   "metadata": {},
   "outputs": [],
   "source": [
    "if not DRY_RUN_DEFAULT:\n",
    "    run_command([\"python\", str(PIPELINE_SCRIPT)])\n",
    "else:\n",
    "    print(\"Full pipeline execution is gated behind DRY_RUN_DEFAULT.\")"
   ]
  }
 ],
 "metadata": {
  "language_info": {
   "name": "python"
  }
 },
 "nbformat": 4,
 "nbformat_minor": 5
}
